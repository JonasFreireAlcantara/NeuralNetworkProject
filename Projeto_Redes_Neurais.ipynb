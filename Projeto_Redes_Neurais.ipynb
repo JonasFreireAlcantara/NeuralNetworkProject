{
  "nbformat": 4,
  "nbformat_minor": 0,
  "metadata": {
    "colab": {
      "name": "Projeto Redes Neurais",
      "provenance": [],
      "collapsed_sections": [],
      "authorship_tag": "ABX9TyMOzZ420Ps+qqwBXgQQBg3x",
      "include_colab_link": true
    },
    "kernelspec": {
      "name": "python3",
      "display_name": "Python 3"
    },
    "language_info": {
      "name": "python"
    }
  },
  "cells": [
    {
      "cell_type": "markdown",
      "metadata": {
        "id": "view-in-github",
        "colab_type": "text"
      },
      "source": [
        "<a href=\"https://colab.research.google.com/github/JonasFreireAlcantara/NeuralNetworkProject/blob/master/Projeto_Redes_Neurais.ipynb\" target=\"_parent\"><img src=\"https://colab.research.google.com/assets/colab-badge.svg\" alt=\"Open In Colab\"/></a>"
      ]
    },
    {
      "cell_type": "code",
      "source": [
        "!git clone https://github.com/JonasFreireAlcantara/NeuralNetworkProject.git"
      ],
      "metadata": {
        "id": "TU3tu07fwSaU"
      },
      "execution_count": null,
      "outputs": []
    },
    {
      "cell_type": "markdown",
      "source": [
        "# Projeto de Redes Neurais Artificiais"
      ],
      "metadata": {
        "id": "MGIzwc6jgpPN"
      }
    },
    {
      "cell_type": "markdown",
      "source": [
        "### Resumo\n",
        "Condução de experimentos em diferentes configurações de Redes Neurais para detecção de sexo em imagens de pessoas com máscaras.\n",
        "\n",
        "### Metodologia\n",
        "O problema atacado neste trabalho é de classificação, as métricas utilizadas para avaliar as diferentes configurações sobre as arquiteturas em questão é a acurácia. A avaliação se dará através de 10 execuções sobre cada configuração calculando sua média e desvio padrão para posterior plotagem de gráficos e discussão dos resultados.\n",
        "\n",
        "O presente notebook foi separado em seções, cada uma possuindo sua própria arquitetura de Rede Neural e também uma seção especial contendo a preparação do dataset para as execuções. As arquiteturas escolhidas foram:\n",
        "\n",
        "* Multilayer Perceptron;\n",
        "* AlexNet;\n",
        "* InceptionV3."
      ],
      "metadata": {
        "id": "lRztY4mGgzlf"
      }
    },
    {
      "cell_type": "markdown",
      "source": [
        "# Dataset\n",
        "\n"
      ],
      "metadata": {
        "id": "UVdNj1B1iYKz"
      }
    },
    {
      "cell_type": "markdown",
      "source": [
        "# Multilayer Perceptron\n",
        "\n"
      ],
      "metadata": {
        "id": "14zanUcniFqw"
      }
    },
    {
      "cell_type": "markdown",
      "source": [
        ""
      ],
      "metadata": {
        "id": "tp9sE0V7iM_8"
      }
    },
    {
      "cell_type": "code",
      "execution_count": null,
      "metadata": {
        "id": "7RLBDicGgZG6"
      },
      "outputs": [],
      "source": [
        ""
      ]
    }
  ]
}